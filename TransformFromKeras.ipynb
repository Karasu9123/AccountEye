{
 "cells": [
  {
   "cell_type": "code",
   "execution_count": 1,
   "metadata": {},
   "outputs": [],
   "source": [
    "import sys\n",
    "sys.path.insert(0, '/home/serhii/AccountEye/')"
   ]
  },
  {
   "cell_type": "code",
   "execution_count": 2,
   "metadata": {
    "scrolled": true
   },
   "outputs": [],
   "source": [
    "import ImagePreprocessing.ImageProcessing as IP\n",
    "import Experiments.Data as D\n",
    "import cv2\n",
    "\n",
    "from tensorflow.keras.preprocessing.image import ImageDataGenerator"
   ]
  },
  {
   "cell_type": "code",
   "execution_count": 3,
   "metadata": {
    "code_folding": []
   },
   "outputs": [],
   "source": [
    "csvPaths = ['Images/Labels/Clean.csv', \n",
    "            'Images/Labels/NewBalanced.csv', \n",
    "            'Images/Labels/YouTube.csv']\n",
    "imgPath = 'Images/Resized/'\n",
    "trainPart = 1\n",
    "testPart = 0\n",
    "batch_size = 256\n",
    "num_classes = 10\n",
    "epochs = 10\n",
    "rows, cols, channels = 48, 32, 3\n",
    "input_shape = (rows, cols, channels)"
   ]
  },
  {
   "cell_type": "code",
   "execution_count": 4,
   "metadata": {
    "code_folding": [],
    "scrolled": false
   },
   "outputs": [],
   "source": [
    "(xTrain, yTrainO), (xTest, yTestO), (xValid, yValidO) = D.LoadData(csvPaths, imgPath, rows, cols, channels=channels,\n",
    "                                                                   balanceDS=False, trainPart=trainPart, \n",
    "                                                                   testPart=testPart, labelRow='10_Classes')\n"
   ]
  },
  {
   "cell_type": "code",
   "execution_count": 5,
   "metadata": {},
   "outputs": [
    {
     "data": {
      "text/plain": [
       "(958, 48, 32, 3)"
      ]
     },
     "execution_count": 5,
     "metadata": {},
     "output_type": "execute_result"
    }
   ],
   "source": [
    "xTrain.shape"
   ]
  },
  {
   "cell_type": "code",
   "execution_count": 6,
   "metadata": {},
   "outputs": [],
   "source": [
    "datagen = ImageDataGenerator(\n",
    "        rotation_range=30,\n",
    "        width_shift_range=0,\n",
    "        height_shift_range=0,\n",
    "        #rescale=1. / 255,\n",
    "        shear_range=20, # поворот, сдвиг, растяжение\n",
    "        zoom_range=0.2,\n",
    "        brightness_range=(0.7, 1.3), # 0.7 - 1.3\n",
    "        fill_mode='nearest',\n",
    "        cval=0)"
   ]
  },
  {
   "cell_type": "code",
   "execution_count": 43,
   "metadata": {},
   "outputs": [
    {
     "name": "stdout",
     "output_type": "stream",
     "text": [
      "[[[ 51.  30.  21.]\n",
      "  [ 56.  35.  25.]\n",
      "  [ 53.  25.  19.]\n",
      "  ...\n",
      "  [135. 121. 185.]\n",
      "  [144. 127. 192.]\n",
      "  [147. 129. 197.]]\n",
      "\n",
      " [[ 53.  34.  21.]\n",
      "  [ 56.  35.  25.]\n",
      "  [ 56.  33.  24.]\n",
      "  ...\n",
      "  [150. 132. 201.]\n",
      "  [153. 134. 205.]\n",
      "  [154. 135. 208.]]\n",
      "\n",
      " [[ 55.  40.  24.]\n",
      "  [ 60.  39.  29.]\n",
      "  [ 61.  40.  30.]\n",
      "  ...\n",
      "  [153. 133. 207.]\n",
      "  [151. 132. 207.]\n",
      "  [150. 130. 206.]]\n",
      "\n",
      " ...\n",
      "\n",
      " [[ 40.  11.  25.]\n",
      "  [ 39.  11.  27.]\n",
      "  [ 39.  11.  28.]\n",
      "  ...\n",
      "  [ 85.  60.  43.]\n",
      "  [ 91.  67.  50.]\n",
      "  [112.  86.  76.]]\n",
      "\n",
      " [[ 38.  11.  29.]\n",
      "  [ 38.  11.  30.]\n",
      "  [ 39.  12.  32.]\n",
      "  ...\n",
      "  [ 69.  43.  29.]\n",
      "  [ 70.  45.  29.]\n",
      "  [ 77.  51.  38.]]\n",
      "\n",
      " [[ 39.  13.  32.]\n",
      "  [ 40.  13.  33.]\n",
      "  [ 39.  13.  34.]\n",
      "  ...\n",
      "  [ 58.  30.  19.]\n",
      "  [ 59.  35.  18.]\n",
      "  [ 55.  32.  14.]]]\n",
      "(5, 48, 32, 3)\n",
      "[[[ 15.  10.   8.]\n",
      "  [ 15.  10.   8.]\n",
      "  [ 15.  10.   8.]\n",
      "  ...\n",
      "  [ 54.  36.  36.]\n",
      "  [ 44.  26.  27.]\n",
      "  [ 39.  23.  25.]]\n",
      "\n",
      " [[ 15.  10.   8.]\n",
      "  [ 15.  10.   8.]\n",
      "  [ 15.  10.   8.]\n",
      "  ...\n",
      "  [ 51.  34.  34.]\n",
      "  [ 43.  25.  27.]\n",
      "  [ 38.  22.  25.]]\n",
      "\n",
      " [[ 15.  10.   8.]\n",
      "  [ 15.  10.   8.]\n",
      "  [ 15.  10.   7.]\n",
      "  ...\n",
      "  [ 49.  32.  32.]\n",
      "  [ 42.  25.  26.]\n",
      "  [ 36.  21.  23.]]\n",
      "\n",
      " ...\n",
      "\n",
      " [[ 25.  14.  10.]\n",
      "  [ 28.  16.  10.]\n",
      "  [ 32.  19.  14.]\n",
      "  ...\n",
      "  [ 47.  44.  86.]\n",
      "  [ 50.  48.  96.]\n",
      "  [ 50.  49.  99.]]\n",
      "\n",
      " [[ 25.  15.  10.]\n",
      "  [ 29.  17.  10.]\n",
      "  [ 33.  20.  14.]\n",
      "  ...\n",
      "  [ 54.  50.  95.]\n",
      "  [ 54.  53. 102.]\n",
      "  [ 54.  53. 103.]]\n",
      "\n",
      " [[ 26.  15.  10.]\n",
      "  [ 30.  17.  10.]\n",
      "  [ 34.  21.  15.]\n",
      "  ...\n",
      "  [ 57.  54. 100.]\n",
      "  [ 57.  56. 105.]\n",
      "  [ 57.  56. 105.]]]\n",
      "(5, 48, 32, 3)\n",
      "[[[ 26.  15.  18.]\n",
      "  [ 26.  15.  18.]\n",
      "  [ 26.  15.  18.]\n",
      "  ...\n",
      "  [ 54.  25.  20.]\n",
      "  [ 54.  26.  26.]\n",
      "  [ 57.  36.  42.]]\n",
      "\n",
      " [[ 26.  15.  18.]\n",
      "  [ 26.  15.  16.]\n",
      "  [ 26.  14.  16.]\n",
      "  ...\n",
      "  [ 54.  25.  20.]\n",
      "  [ 54.  26.  26.]\n",
      "  [ 57.  36.  42.]]\n",
      "\n",
      " [[ 25.  14.  16.]\n",
      "  [ 26.  14.  16.]\n",
      "  [ 24.  13.  15.]\n",
      "  ...\n",
      "  [ 53.  25.  21.]\n",
      "  [ 51.  28.  28.]\n",
      "  [ 64.  41.  51.]]\n",
      "\n",
      " ...\n",
      "\n",
      " [[ 24.  10.  21.]\n",
      "  [ 26.  14.  19.]\n",
      "  [ 31.  16.  21.]\n",
      "  ...\n",
      "  [ 39.  42.  53.]\n",
      "  [ 47.  53.  72.]\n",
      "  [ 41.  50.  76.]]\n",
      "\n",
      " [[ 24.  10.  21.]\n",
      "  [ 27.  14.  19.]\n",
      "  [ 32.  18.  22.]\n",
      "  ...\n",
      "  [ 44.  48.  59.]\n",
      "  [ 55.  64.  82.]\n",
      "  [ 48.  61.  85.]]\n",
      "\n",
      " [[ 24.  10.  21.]\n",
      "  [ 27.  14.  19.]\n",
      "  [ 32.  18.  22.]\n",
      "  ...\n",
      "  [ 53.  56.  68.]\n",
      "  [ 68.  77.  96.]\n",
      "  [ 66.  79. 108.]]]\n",
      "(5, 48, 32, 3)\n",
      "[[[ 16.  10.   9.]\n",
      "  [ 16.  10.   9.]\n",
      "  [ 16.  10.   9.]\n",
      "  ...\n",
      "  [ 74.  58.  51.]\n",
      "  [ 43.  29.  24.]\n",
      "  [ 37.  25.  21.]]\n",
      "\n",
      " [[ 16.  10.   9.]\n",
      "  [ 16.  10.   9.]\n",
      "  [ 16.  10.   9.]\n",
      "  ...\n",
      "  [ 79.  63.  53.]\n",
      "  [ 50.  36.  30.]\n",
      "  [ 38.  28.  23.]]\n",
      "\n",
      " [[ 14.  10.   9.]\n",
      "  [ 14.  10.   9.]\n",
      "  [ 14.  10.   9.]\n",
      "  ...\n",
      "  [ 87.  72.  62.]\n",
      "  [ 56.  43.  37.]\n",
      "  [ 43.  34.  29.]]\n",
      "\n",
      " ...\n",
      "\n",
      " [[ 27.  18.  15.]\n",
      "  [ 31.  20.  15.]\n",
      "  [ 37.  25.  20.]\n",
      "  ...\n",
      "  [ 48.  47. 104.]\n",
      "  [ 48.  47. 104.]\n",
      "  [ 48.  47. 104.]]\n",
      "\n",
      " [[ 24.  15.  11.]\n",
      "  [ 29.  19.  14.]\n",
      "  [ 36.  24.  19.]\n",
      "  ...\n",
      "  [ 47.  47. 102.]\n",
      "  [ 47.  47. 102.]\n",
      "  [ 47.  47. 102.]]\n",
      "\n",
      " [[ 24.  14.   9.]\n",
      "  [ 29.  19.  14.]\n",
      "  [ 37.  24.  18.]\n",
      "  ...\n",
      "  [ 48.  48. 102.]\n",
      "  [ 48.  48. 102.]\n",
      "  [ 48.  48. 102.]]]\n",
      "(5, 48, 32, 3)\n"
     ]
    }
   ],
   "source": [
    "i = 0\n",
    "for batch in datagen.flow(xTrain[:10], batch_size=5, shuffle=False, save_to_dir='Images/Augm', save_format='jpg'):\n",
    "    i += 1\n",
    "    print(batch[0])\n",
    "    cv2.imwrite('0.jpg',batch[3])\n",
    "    print(batch.shape)\n",
    "    if i > 3:\n",
    "        break"
   ]
  },
  {
   "cell_type": "code",
   "execution_count": null,
   "metadata": {},
   "outputs": [],
   "source": [
    "i = 0\n",
    "for batch in datagen.flow(xTrain, batch_size=30, save_to_dir='Images/Augm', save_format='jpg'):\n",
    "    i += 1\n",
    "    print(batch.shape)\n",
    "    if i > 1:\n",
    "        break"
   ]
  },
  {
   "cell_type": "code",
   "execution_count": 42,
   "metadata": {},
   "outputs": [],
   "source": [
    "# Apply some certain transformation\n",
    "# 'theta': Float. Rotation angle in degrees.\n",
    "# 'tx': Float. Shift in the x direction.\n",
    "# 'ty': Float. Shift in the y direction.\n",
    "# 'shear': Float. Shear angle in degrees.\n",
    "# 'zx': Float. Zoom in the x direction.\n",
    "# 'zy': Float. Zoom in the y direction.\n",
    "# 'flip_horizontal': Boolean. Horizontal flip.\n",
    "# 'flip_vertical': Boolean. Vertical flip.\n",
    "# 'channel_shift_intencity': Float. Channel shift intensity.\n",
    "# 'brightness': Float. Brightness shift intensity.\n",
    "for i in range(0,xTrain.shape[0]):\n",
    "    cv2.imwrite('Images/Augm/'+str(i)+'.jpg' ,datagen.apply_transform(xTrain[i], \n",
    "                  {'theta': -30, 'tx': 0, 'ty': 0, 'shear': -20, 'zx': 1, 'zy': 1, 'brightness': 1}))"
   ]
  },
  {
   "cell_type": "code",
   "execution_count": null,
   "metadata": {},
   "outputs": [],
   "source": []
  },
  {
   "cell_type": "code",
   "execution_count": null,
   "metadata": {},
   "outputs": [],
   "source": []
  },
  {
   "cell_type": "code",
   "execution_count": null,
   "metadata": {},
   "outputs": [],
   "source": []
  }
 ],
 "metadata": {
  "kernelspec": {
   "display_name": "Python 3",
   "language": "python",
   "name": "python3"
  },
  "language_info": {
   "codemirror_mode": {
    "name": "ipython",
    "version": 3
   },
   "file_extension": ".py",
   "mimetype": "text/x-python",
   "name": "python",
   "nbconvert_exporter": "python",
   "pygments_lexer": "ipython3",
   "version": "3.6.7"
  },
  "toc": {
   "base_numbering": 1,
   "nav_menu": {},
   "number_sections": true,
   "sideBar": true,
   "skip_h1_title": false,
   "title_cell": "Table of Contents",
   "title_sidebar": "Contents",
   "toc_cell": false,
   "toc_position": {},
   "toc_section_display": true,
   "toc_window_display": false
  },
  "varInspector": {
   "cols": {
    "lenName": 16,
    "lenType": 16,
    "lenVar": 40
   },
   "kernels_config": {
    "python": {
     "delete_cmd_postfix": "",
     "delete_cmd_prefix": "del ",
     "library": "var_list.py",
     "varRefreshCmd": "print(var_dic_list())"
    },
    "r": {
     "delete_cmd_postfix": ") ",
     "delete_cmd_prefix": "rm(",
     "library": "var_list.r",
     "varRefreshCmd": "cat(var_dic_list()) "
    }
   },
   "types_to_exclude": [
    "module",
    "function",
    "builtin_function_or_method",
    "instance",
    "_Feature"
   ],
   "window_display": false
  }
 },
 "nbformat": 4,
 "nbformat_minor": 2
}
