{
 "cells": [
  {
   "cell_type": "code",
   "execution_count": 1,
   "metadata": {},
   "outputs": [],
   "source": [
    "import sys\n",
    "sys.path.insert(0, '/home/serhii/AccountEye/')\n",
    "\n",
    "import ImagePreprocessing.ImageProcessing as IP\n",
    "import Experiments.Experiment as E\n",
    "import Experiments.Models as M\n",
    "import Experiments.Data as D\n",
    "\n",
    "from tensorflow.keras.preprocessing.image import ImageDataGenerator\n",
    "import tensorflow.keras as K\n",
    "import tensorflow as tf\n",
    "\n",
    "import numpy as np\n",
    "import cv2\n"
   ]
  },
  {
   "cell_type": "code",
   "execution_count": 2,
   "metadata": {},
   "outputs": [],
   "source": [
    "csvPaths = ['Images/Labels/Clean.csv', \n",
    "            'Images/Labels/YouTube.csv',\n",
    "            'Images/Labels/NewBalanced.csv'] \n",
    "            \n",
    "imgPath = 'Images/Resized/'\n",
    "\n",
    "#csvPaths = ['/home/serhii/AccountEyeTest/Images/Augmented/NewBalanced_Blur+Augmentation.csv',]\n",
    "#imgPath = '/opt/AccountEye/Images/Preproc/'\n",
    "\n",
    "trainPart = 1\n",
    "testPart = 0\n",
    "batchSize = 256\n",
    "numClasses = 20\n",
    "epochs = 10\n",
    "rows, cols, channels = 48, 32, 3\n",
    "input_shape = (rows, cols, channels)\n",
    "\n"
   ]
  },
  {
   "cell_type": "code",
   "execution_count": 3,
   "metadata": {},
   "outputs": [],
   "source": [
    "(xTrain, yTrainO), (_, _), (_, _) = D.LoadData(csvPaths, imgPath, rows, cols, channels=channels,\n",
    "                                               trainPart=trainPart, testPart=testPart,\n",
    "                                               balanceDS=False, labelRow='20_Classes')\n"
   ]
  },
  {
   "cell_type": "code",
   "execution_count": 4,
   "metadata": {},
   "outputs": [],
   "source": [
    "yTrain = K.utils.to_categorical(yTrainO, numClasses)"
   ]
  },
  {
   "cell_type": "code",
   "execution_count": 19,
   "metadata": {},
   "outputs": [],
   "source": [
    "def Generator(features, labels, batchSize, processingFunction, imageGenerator = None):\n",
    "    if imageGenerator is None:\n",
    "        imageGenerator = ImageDataGenerator(\n",
    "            rotation_range=30,\n",
    "            width_shift_range=0,\n",
    "            height_shift_range=0,\n",
    "            rescale=1. / 255,\n",
    "            shear_range=20, # поворот, сдвиг, растяжение\n",
    "            zoom_range=0.2,\n",
    "            brightness_range=(0.7, 1.3), # 0.7 - 1.3\n",
    "            fill_mode='nearest',\n",
    "            cval=0)\n",
    "    while True:\n",
    "        # Random indexes \n",
    "        index = np.array(np.random.choice(features.shape[0]-1, batchSize, replace=False))\n",
    "        \n",
    "        # Augmentation batch\n",
    "        for batch in imageGenerator.flow(features[index], batch_size=batchSize, shuffle=False):\n",
    "            batchFeatures = batch\n",
    "            break\n",
    "        batchLabels = labels[index]\n",
    "        \n",
    "        \n",
    "        for i in range(batchSize):\n",
    "            batchFeatures[i] =  processingFunction(batchFeatures[i])\n",
    "        yield batchFeatures, batchLabels\n"
   ]
  },
  {
   "cell_type": "code",
   "execution_count": null,
   "metadata": {},
   "outputs": [],
   "source": []
  }
 ],
 "metadata": {
  "kernelspec": {
   "display_name": "Python 3",
   "language": "python",
   "name": "python3"
  },
  "language_info": {
   "codemirror_mode": {
    "name": "ipython",
    "version": 3
   },
   "file_extension": ".py",
   "mimetype": "text/x-python",
   "name": "python",
   "nbconvert_exporter": "python",
   "pygments_lexer": "ipython3",
   "version": "3.6.7"
  },
  "toc": {
   "base_numbering": 1,
   "nav_menu": {},
   "number_sections": true,
   "sideBar": true,
   "skip_h1_title": false,
   "title_cell": "Table of Contents",
   "title_sidebar": "Contents",
   "toc_cell": false,
   "toc_position": {},
   "toc_section_display": true,
   "toc_window_display": false
  },
  "varInspector": {
   "cols": {
    "lenName": 16,
    "lenType": 16,
    "lenVar": 40
   },
   "kernels_config": {
    "python": {
     "delete_cmd_postfix": "",
     "delete_cmd_prefix": "del ",
     "library": "var_list.py",
     "varRefreshCmd": "print(var_dic_list())"
    },
    "r": {
     "delete_cmd_postfix": ") ",
     "delete_cmd_prefix": "rm(",
     "library": "var_list.r",
     "varRefreshCmd": "cat(var_dic_list()) "
    }
   },
   "types_to_exclude": [
    "module",
    "function",
    "builtin_function_or_method",
    "instance",
    "_Feature"
   ],
   "window_display": false
  }
 },
 "nbformat": 4,
 "nbformat_minor": 2
}
