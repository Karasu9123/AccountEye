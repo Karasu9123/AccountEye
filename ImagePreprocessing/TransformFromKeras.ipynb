{
 "cells": [
  {
   "cell_type": "code",
   "execution_count": 1,
   "metadata": {},
   "outputs": [
    {
     "data": {
      "text/plain": [
       "['/usr/lib/python36.zip',\n",
       " '/usr/lib/python3.6',\n",
       " '/usr/lib/python3.6/lib-dynload',\n",
       " '',\n",
       " '/usr/local/lib/python3.6/dist-packages',\n",
       " '/usr/lib/python3/dist-packages',\n",
       " '/usr/local/lib/python3.6/dist-packages/IPython/extensions',\n",
       " '/home/serhii/.ipython']"
      ]
     },
     "execution_count": 1,
     "metadata": {},
     "output_type": "execute_result"
    }
   ],
   "source": [
    "import sys\n",
    "sys.path.insert(0, '/home/serhii/AccountEye/')"
   ]
  },
  {
   "cell_type": "code",
   "execution_count": 15,
   "metadata": {
    "scrolled": true
   },
   "outputs": [],
   "source": [
    "import Experiments.Models as M\n",
    "import Experiments.Experiment as E\n",
    "import ImageProcessing as IP\n",
    "import Experiments.Data as D\n",
    "import cv2\n",
    "import numpy as np\n",
    "\n",
    "from tensorflow.keras.preprocessing.image import ImageDataGenerator, img_to_array, load_img"
   ]
  },
  {
   "cell_type": "code",
   "execution_count": 23,
   "metadata": {
    "code_folding": []
   },
   "outputs": [],
   "source": [
    "csvPaths = ['/home/serhii/AccountEye/Images/Labels/Clean.csv', \n",
    "            '/home/serhii/AccountEye/Images/Labels/NewBalanced.csv', \n",
    "            '/home/serhii/AccountEye/Images/Labels/YouTube.csv']\n",
    "imgPath = '/home/serhii/AccountEye/Images/Preproc/'\n",
    "trainPart = 1\n",
    "testPart = 0\n",
    "batch_size = 256\n",
    "num_classes = 20\n",
    "epochs = 10\n",
    "rows, cols, channels = 48, 32, 3\n",
    "input_shape = (rows, cols, channels)"
   ]
  },
  {
   "cell_type": "code",
   "execution_count": 24,
   "metadata": {
    "code_folding": [],
    "scrolled": false
   },
   "outputs": [],
   "source": [
    "(xTrain, yTrainO), (xTest, yTestO), (xValid, yValidO) = D.LoadData(csvPaths, imgPath, rows, cols, channels=channels,\n",
    "                                                              trainPart=trainPart, testPart=testPart, labelRow='20_Classes')\n"
   ]
  },
  {
   "cell_type": "code",
   "execution_count": null,
   "metadata": {},
   "outputs": [],
   "source": [
    "xTrain.shape"
   ]
  },
  {
   "cell_type": "code",
   "execution_count": null,
   "metadata": {},
   "outputs": [],
   "source": [
    "datagen = ImageDataGenerator(\n",
    "        rotation_range=0,\n",
    "        width_shift_range=0,\n",
    "        height_shift_range=0,\n",
    "        #rescale=1. / 255,\n",
    "        shear_range=0, # поворот, сдвиг, растяжение\n",
    "        zoom_range=0,\n",
    "        brightness_range=(1, 1), # 0.02 - many\n",
    "        fill_mode='nearest')"
   ]
  },
  {
   "cell_type": "code",
   "execution_count": null,
   "metadata": {},
   "outputs": [],
   "source": [
    "i = 0\n",
    "for batch in datagen.flow(xTrain, batch_size=15, save_to_dir='Images/Augm', save_format='jpg'):\n",
    "    i += 1\n",
    "    print(batch.shape)\n",
    "    if i > 1:\n",
    "        break"
   ]
  },
  {
   "cell_type": "code",
   "execution_count": null,
   "metadata": {},
   "outputs": [],
   "source": [
    "# Apply some certain transformation\n",
    "# 'theta': Float. Rotation angle in degrees.\n",
    "# 'tx': Float. Shift in the x direction.\n",
    "# 'ty': Float. Shift in the y direction.\n",
    "# 'shear': Float. Shear angle in degrees.\n",
    "# 'zx': Float. Zoom in the x direction.\n",
    "# 'zy': Float. Zoom in the y direction.\n",
    "# 'flip_horizontal': Boolean. Horizontal flip.\n",
    "# 'flip_vertical': Boolean. Vertical flip.\n",
    "# 'channel_shift_intencity': Float. Channel shift intensity.\n",
    "# 'brightness': Float. Brightness shift intensity.\n",
    "for i in range(0,xTrain.shape[0]):\n",
    "    cv2.imwrite('Images/Augm/'+str(i)+'.jpg' ,datagen.apply_transform(xTrain[i], \n",
    "                  {'theta': 0, 'tx': 0, 'ty': 0, 'shear': 0, 'zx': 1, 'zy': 1, 'brightness': 0.2}))"
   ]
  },
  {
   "cell_type": "code",
   "execution_count": null,
   "metadata": {},
   "outputs": [],
   "source": []
  },
  {
   "cell_type": "code",
   "execution_count": null,
   "metadata": {},
   "outputs": [],
   "source": []
  },
  {
   "cell_type": "code",
   "execution_count": null,
   "metadata": {},
   "outputs": [],
   "source": []
  }
 ],
 "metadata": {
  "kernelspec": {
   "display_name": "Python 3",
   "language": "python",
   "name": "python3"
  },
  "language_info": {
   "codemirror_mode": {
    "name": "ipython",
    "version": 3
   },
   "file_extension": ".py",
   "mimetype": "text/x-python",
   "name": "python",
   "nbconvert_exporter": "python",
   "pygments_lexer": "ipython3",
   "version": "3.6.7"
  },
  "toc": {
   "base_numbering": 1,
   "nav_menu": {},
   "number_sections": true,
   "sideBar": true,
   "skip_h1_title": false,
   "title_cell": "Table of Contents",
   "title_sidebar": "Contents",
   "toc_cell": false,
   "toc_position": {},
   "toc_section_display": true,
   "toc_window_display": false
  },
  "varInspector": {
   "cols": {
    "lenName": 16,
    "lenType": 16,
    "lenVar": 40
   },
   "kernels_config": {
    "python": {
     "delete_cmd_postfix": "",
     "delete_cmd_prefix": "del ",
     "library": "var_list.py",
     "varRefreshCmd": "print(var_dic_list())"
    },
    "r": {
     "delete_cmd_postfix": ") ",
     "delete_cmd_prefix": "rm(",
     "library": "var_list.r",
     "varRefreshCmd": "cat(var_dic_list()) "
    }
   },
   "types_to_exclude": [
    "module",
    "function",
    "builtin_function_or_method",
    "instance",
    "_Feature"
   ],
   "window_display": false
  }
 },
 "nbformat": 4,
 "nbformat_minor": 2
}
