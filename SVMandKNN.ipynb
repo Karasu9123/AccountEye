{
 "cells": [
  {
   "cell_type": "code",
   "execution_count": 1,
   "metadata": {},
   "outputs": [],
   "source": [
    "import sys\n",
    "sys.path.insert(0, '/home/serhii/AccountEye/')\n",
    "\n",
    "import ImagePreprocessing.ImageProcessing as IP\n",
    "import Experiments.Experiment as E\n",
    "import Experiments.Models as M\n",
    "import Experiments.Data as D\n",
    "\n",
    "from sklearn.neighbors import KNeighborsClassifier as KNN\n",
    "from sklearn.metrics import confusion_matrix \n",
    "from sklearn.svm import SVC\n",
    "\n",
    "from tensorflow.keras.utils import multi_gpu_model\n",
    "import tensorflow.keras as K\n",
    "import tensorflow as tf\n",
    "import seaborn as sns\n",
    "import pandas as pd\n",
    "import numpy as np\n",
    "import pickle\n",
    "import cv2"
   ]
  },
  {
   "cell_type": "code",
   "execution_count": 2,
   "metadata": {},
   "outputs": [],
   "source": [
    "csvPaths = ['Images/Labels/Clean_Augmented.csv', \n",
    "            'Images/Labels/YouTube_Augmented.csv',\n",
    "            'Images/Labels/NewBalanced_Augmented.csv'] \n",
    "            \n",
    "imgPath = 'Images/Augmented/'\n",
    "\n",
    "#csvPaths = ['/home/serhii/AccountEyeTest/Images/Augmented/NewBalanced_Blur+Augmentation.csv',]\n",
    "#imgPath = '/opt/AccountEye/Images/Preproc/'\n",
    "\n",
    "trainPart = 0.7\n",
    "testPart = 0.2\n",
    "batchSize = 256\n",
    "numClasses = 20\n",
    "epochs = 10\n",
    "rows, cols, channels = 48, 32, 3\n",
    "input_shape = (rows, cols, channels)"
   ]
  },
  {
   "cell_type": "code",
   "execution_count": 4,
   "metadata": {},
   "outputs": [],
   "source": [
    "(xTrain, yTrainO), (xTest, yTestO), (xValid, yValidO) = D.LoadData(csvPaths, imgPath, rows, cols, channels=channels,\n",
    "                                                              trainPart=trainPart, testPart=testPart, balanceDS=True, labelRow='20_Classes')\n"
   ]
  },
  {
   "cell_type": "code",
   "execution_count": 5,
   "metadata": {},
   "outputs": [
    {
     "name": "stdout",
     "output_type": "stream",
     "text": [
      "(11312, 48, 32, 3)\n",
      "(3231, 48, 32, 3)\n",
      "(1617, 48, 32, 3)\n",
      "(11312,)\n",
      "(3231,)\n",
      "(1617,)\n"
     ]
    }
   ],
   "source": [
    "print(xTrain.shape)\n",
    "print(xTest.shape)\n",
    "print(xValid.shape)\n",
    "print(yTrainO.shape)\n",
    "print(yTestO.shape)\n",
    "print(yValidO.shape)"
   ]
  },
  {
   "cell_type": "markdown",
   "metadata": {},
   "source": [
    "# Data"
   ]
  },
  {
   "cell_type": "code",
   "execution_count": 7,
   "metadata": {},
   "outputs": [],
   "source": [
    "yTrain = K.utils.to_categorical(yTrainO, numClasses)\n",
    "yTest = K.utils.to_categorical(yTestO, numClasses)\n",
    "yValid = K.utils.to_categorical(yValidO, numClasses)"
   ]
  },
  {
   "cell_type": "code",
   "execution_count": 8,
   "metadata": {},
   "outputs": [],
   "source": [
    "xTrainHOG = np.zeros((xTrain.shape[0], 540))\n",
    "for i in range(0, xTrain.shape[0]):\n",
    "    xTrainHOG[i] = IP.HoG(xTrain[i]).flatten()"
   ]
  },
  {
   "cell_type": "code",
   "execution_count": 9,
   "metadata": {},
   "outputs": [],
   "source": [
    "xTestHOG = np.zeros((xTest.shape[0], 540))\n",
    "for i in range(0, xTest.shape[0]):\n",
    "    xTestHOG[i] = IP.HoG(xTest[i]).flatten()"
   ]
  },
  {
   "cell_type": "code",
   "execution_count": 10,
   "metadata": {},
   "outputs": [],
   "source": [
    "xValidHOG = np.zeros((xValid.shape[0], 540))\n",
    "for i in range(0, xValid.shape[0]):\n",
    "    xValidHOG[i] = IP.HoG(xValid[i]).flatten()"
   ]
  },
  {
   "cell_type": "code",
   "execution_count": 12,
   "metadata": {},
   "outputs": [],
   "source": [
    "xTrain = xTrain/255\n",
    "xTest = xTest/255\n",
    "xValid = xValid/255"
   ]
  },
  {
   "cell_type": "code",
   "execution_count": 13,
   "metadata": {},
   "outputs": [],
   "source": [
    "xTrainFL = xTrain.reshape(xTrain.shape[0], -1)\n",
    "xTestFL = xTest.reshape(xTest.shape[0], -1)\n",
    "xValidFL = xValid.reshape(xValid.shape[0], -1)"
   ]
  },
  {
   "cell_type": "code",
   "execution_count": null,
   "metadata": {},
   "outputs": [],
   "source": []
  },
  {
   "cell_type": "markdown",
   "metadata": {
    "heading_collapsed": true
   },
   "source": [
    "# SVM"
   ]
  },
  {
   "cell_type": "code",
   "execution_count": 14,
   "metadata": {
    "hidden": true
   },
   "outputs": [],
   "source": [
    "fileSVM = 'SVM_Release.sav'"
   ]
  },
  {
   "cell_type": "code",
   "execution_count": 15,
   "metadata": {
    "hidden": true
   },
   "outputs": [],
   "source": [
    "# Use for create model\n",
    "modelSVM = SVC(max_iter=-1, verbose=True)"
   ]
  },
  {
   "cell_type": "code",
   "execution_count": 16,
   "metadata": {
    "hidden": true
   },
   "outputs": [],
   "source": [
    "# Use for load model\n",
    "if modelSVM is None:\n",
    "    modelSVM = pickle.load(open(fileSVM, 'rb'))"
   ]
  },
  {
   "cell_type": "code",
   "execution_count": 17,
   "metadata": {
    "hidden": true
   },
   "outputs": [],
   "source": [
    "modelSVM.fit(xTrainFL, yTrainO)"
   ]
  },
  {
   "cell_type": "code",
   "execution_count": 18,
   "metadata": {
    "hidden": true
   },
   "outputs": [],
   "source": [
    "pickle.dump(modelSVM, open(fileSVM, 'wb'))"
   ]
  },
  {
   "cell_type": "code",
   "execution_count": 19,
   "metadata": {
    "hidden": true
   },
   "outputs": [],
   "source": [
    "accTrain = modelSVM.score(xTrainFL, yTrainO) \n",
    "accTest = modelSVM.score(xTestFL, yTestO) \n",
    "accValid = modelSVM.score(xValidFL, yValidO) "
   ]
  },
  {
   "cell_type": "code",
   "execution_count": 20,
   "metadata": {
    "hidden": true
   },
   "outputs": [],
   "source": [
    "print(accTrain)\n",
    "print(accTest)\n",
    "print(accValid)"
   ]
  },
  {
   "cell_type": "code",
   "execution_count": null,
   "metadata": {
    "hidden": true
   },
   "outputs": [],
   "source": []
  },
  {
   "cell_type": "markdown",
   "metadata": {
    "heading_collapsed": true
   },
   "source": [
    "# SVM HOG"
   ]
  },
  {
   "cell_type": "code",
   "execution_count": 21,
   "metadata": {
    "hidden": true
   },
   "outputs": [],
   "source": [
    "fileSVM_HOG = 'SVM_HOG_Release.sav'"
   ]
  },
  {
   "cell_type": "code",
   "execution_count": 22,
   "metadata": {
    "hidden": true
   },
   "outputs": [],
   "source": [
    "# Use for create model\n",
    "modelSVM_HOG = SVC(max_iter=-1, verbose=True)"
   ]
  },
  {
   "cell_type": "code",
   "execution_count": 23,
   "metadata": {
    "hidden": true
   },
   "outputs": [],
   "source": [
    "# Use for load model\n",
    "if modelSVM_HOG is None:\n",
    "    modelSVM_HOG = pickle.load(open(fileSVM_HOG, 'rb'))"
   ]
  },
  {
   "cell_type": "code",
   "execution_count": 24,
   "metadata": {
    "hidden": true
   },
   "outputs": [],
   "source": [
    "modelSVM_HOG.fit(xTrainHOG, yTrainO)"
   ]
  },
  {
   "cell_type": "code",
   "execution_count": 25,
   "metadata": {
    "hidden": true
   },
   "outputs": [],
   "source": [
    "pickle.dump(modelSVM_HOG, open(fileSVM, 'wb'))"
   ]
  },
  {
   "cell_type": "code",
   "execution_count": 26,
   "metadata": {
    "hidden": true
   },
   "outputs": [],
   "source": [
    "accTrain = modelSVM_HOG.score(xTrainHOG, yTrainO) \n",
    "accTest = modelSVM_HOG.score(xTestHOG, yTestO) \n",
    "accValid = modelSVM_HOG.score(xValidHOG, yValidO) "
   ]
  },
  {
   "cell_type": "code",
   "execution_count": 27,
   "metadata": {
    "hidden": true
   },
   "outputs": [],
   "source": [
    "print(accTrain)\n",
    "print(accTest)\n",
    "print(accValid)"
   ]
  },
  {
   "cell_type": "code",
   "execution_count": 28,
   "metadata": {
    "hidden": true
   },
   "outputs": [],
   "source": [
    "predictTrainSVM_HOG = modelSVM.predict(xTrainHOG)\n",
    "predictTestSVM_HOG = modelSVM.predict(xTestHOG)\n",
    "predictValidSVM_HOG = modelSVM.predict(xValidHOG)"
   ]
  },
  {
   "cell_type": "code",
   "execution_count": 29,
   "metadata": {
    "hidden": true
   },
   "outputs": [],
   "source": [
    "# creating a confusion matrix \n",
    "sns.heatmap(confusion_matrix(yTrainO, predictTrainSVM_HOG))"
   ]
  },
  {
   "cell_type": "code",
   "execution_count": 30,
   "metadata": {
    "hidden": true
   },
   "outputs": [],
   "source": [
    "sns.heatmap(confusion_matrix(yTestO, predictTestSVM_HOG))"
   ]
  },
  {
   "cell_type": "code",
   "execution_count": 31,
   "metadata": {
    "hidden": true
   },
   "outputs": [],
   "source": [
    "sns.heatmap(confusion_matrix(yValidO, predictValidSVM_HOG))"
   ]
  },
  {
   "cell_type": "markdown",
   "metadata": {},
   "source": [
    "# K-Neighbors"
   ]
  },
  {
   "cell_type": "code",
   "execution_count": 32,
   "metadata": {},
   "outputs": [],
   "source": [
    "fileKNN = 'KNN_Release.sav'"
   ]
  },
  {
   "cell_type": "code",
   "execution_count": 33,
   "metadata": {},
   "outputs": [],
   "source": [
    "# Use for create model\n",
    "modelKNN = KNN(n_neighbors = 7, n_jobs=10)"
   ]
  },
  {
   "cell_type": "code",
   "execution_count": 34,
   "metadata": {},
   "outputs": [],
   "source": [
    "# Use for load model\n",
    "if modelKNN is None:\n",
    "    modelKNN = pickle.load(open(fileKNN, 'rb'))"
   ]
  },
  {
   "cell_type": "code",
   "execution_count": 35,
   "metadata": {},
   "outputs": [],
   "source": [
    "modelKNN.fit(xTrainHOG, yTrainO) "
   ]
  },
  {
   "cell_type": "code",
   "execution_count": 36,
   "metadata": {},
   "outputs": [],
   "source": [
    "pickle.dump(modelKNN, open(fileKNN, 'wb'))"
   ]
  },
  {
   "cell_type": "code",
   "execution_count": 37,
   "metadata": {},
   "outputs": [],
   "source": [
    "accTrain = modelKNN.score(xTrainHOG, yTrainO) \n",
    "accTest = modelKNN.score(xTestHOG, yTestO) \n",
    "accValid = modelKNN.score(xValidHOG, yValidO) "
   ]
  },
  {
   "cell_type": "code",
   "execution_count": 38,
   "metadata": {},
   "outputs": [],
   "source": [
    "print(accTrain)\n",
    "print(accTest)\n",
    "print(accValid)"
   ]
  },
  {
   "cell_type": "code",
   "execution_count": 39,
   "metadata": {},
   "outputs": [],
   "source": [
    "# creating a confusion matrix \n",
    "predictTrainKNN = modelKNN.predict(xTrain)\n",
    "predictTestKNN = modelKNN.predict(xTest)\n",
    "predictValidKNN = modelKNN.predict(xValid)"
   ]
  },
  {
   "cell_type": "code",
   "execution_count": 40,
   "metadata": {},
   "outputs": [],
   "source": [
    "sns.heatmap(confusion_matrix(yTrainO, predictTrainKNN))"
   ]
  },
  {
   "cell_type": "code",
   "execution_count": 41,
   "metadata": {},
   "outputs": [],
   "source": [
    "sns.heatmap(confusion_matrix(yTestO, predictTestKNN))"
   ]
  },
  {
   "cell_type": "code",
   "execution_count": 42,
   "metadata": {},
   "outputs": [],
   "source": [
    "sns.heatmap(confusion_matrix(yValidO, predictValidKNN))"
   ]
  },
  {
   "cell_type": "markdown",
   "metadata": {},
   "source": [
    "# VGG"
   ]
  },
  {
   "cell_type": "code",
   "execution_count": 43,
   "metadata": {},
   "outputs": [],
   "source": [
    "modelVGG = M.CreateVGGModel(input_shape, numClasses)"
   ]
  },
  {
   "cell_type": "code",
   "execution_count": 44,
   "metadata": {},
   "outputs": [],
   "source": [
    "modelVGG = multi_gpu_model(modelVGG, gpus=2)"
   ]
  },
  {
   "cell_type": "code",
   "execution_count": 45,
   "metadata": {},
   "outputs": [],
   "source": [
    "M.CompileModel(modelVGG)"
   ]
  },
  {
   "cell_type": "code",
   "execution_count": 47,
   "metadata": {
    "scrolled": true
   },
   "outputs": [],
   "source": [
    "M.FitModel(modelVGG, xTrain, yTrain, xTest, yTest, epochs=20, batch_size=batchSize, modelName='VGG_Release')"
   ]
  },
  {
   "cell_type": "code",
   "execution_count": 48,
   "metadata": {},
   "outputs": [
    {
     "name": "stdout",
     "output_type": "stream",
     "text": [
      "Test loss: 0.0015864503934604345\n",
      "Test accuracy: 0.9992927864214993\n",
      "trn None\n",
      "Test loss: 0.06706133615576358\n",
      "Test accuracy: 0.9835964097802538\n",
      "tes None\n",
      "Test loss: 0.043824135445180164\n",
      "Test accuracy: 0.9882498453927026\n",
      "val None\n",
      "Test loss: 0.5658007732268059\n",
      "Test accuracy: 0.9306930693069307\n",
      "cln None\n"
     ]
    }
   ],
   "source": [
    "print('trn', M.EvaluateModel(modelVGG, xTrain, yTrain))\n",
    "print('tes', M.EvaluateModel(modelVGG, xTest, yTest))\n",
    "print('val', M.EvaluateModel(modelVGG, xValid, yValid))"
   ]
  },
  {
   "cell_type": "code",
   "execution_count": null,
   "metadata": {},
   "outputs": [],
   "source": []
  },
  {
   "cell_type": "code",
   "execution_count": 49,
   "metadata": {},
   "outputs": [],
   "source": [
    "M.SaveModel(modelVGG,'VGG_Release.hdf5')"
   ]
  },
  {
   "cell_type": "code",
   "execution_count": null,
   "metadata": {},
   "outputs": [],
   "source": []
  },
  {
   "cell_type": "markdown",
   "metadata": {},
   "source": [
    "# ResNet"
   ]
  },
  {
   "cell_type": "code",
   "execution_count": 50,
   "metadata": {},
   "outputs": [],
   "source": [
    "modelRes = M.CreateResNetModel(input_shape, numClasses)"
   ]
  },
  {
   "cell_type": "code",
   "execution_count": 51,
   "metadata": {},
   "outputs": [],
   "source": [
    "modelRes = multi_gpu_model(modelRes, gpus=2)"
   ]
  },
  {
   "cell_type": "code",
   "execution_count": 52,
   "metadata": {},
   "outputs": [],
   "source": [
    "M.CompileModel(modelRes)"
   ]
  },
  {
   "cell_type": "code",
   "execution_count": 54,
   "metadata": {},
   "outputs": [],
   "source": [
    "M.FitModel(modelRes, xTrain, yTrain, xTest, yTest, epochs=5, batch_size=batchSize, modelName='Res_Release')"
   ]
  },
  {
   "cell_type": "code",
   "execution_count": 55,
   "metadata": {
    "scrolled": true
   },
   "outputs": [
    {
     "name": "stdout",
     "output_type": "stream",
     "text": [
      "Test loss: 1.544289961771189e-05\n",
      "Test accuracy: 1.0\n",
      "trn None\n",
      "Test loss: 0.097282465076603\n",
      "Test accuracy: 0.9792633859486227\n",
      "tes None\n",
      "Test loss: 0.0689836024085259\n",
      "Test accuracy: 0.9808286951144094\n",
      "val None\n",
      "Test loss: 0.5229637571638174\n",
      "Test accuracy: 0.9222772277227723\n",
      "cln None\n"
     ]
    }
   ],
   "source": [
    "print('trn', M.EvaluateModel(modelRes, xTrain, yTrain))\n",
    "print('tes', M.EvaluateModel(modelRes, xTest, yTest))\n",
    "print('val', M.EvaluateModel(modelRes, xValid, yValid))"
   ]
  },
  {
   "cell_type": "code",
   "execution_count": 56,
   "metadata": {},
   "outputs": [],
   "source": [
    "M.SaveModel(modelRes,'Res_Release.hdf5')"
   ]
  },
  {
   "cell_type": "code",
   "execution_count": null,
   "metadata": {},
   "outputs": [],
   "source": []
  },
  {
   "cell_type": "code",
   "execution_count": null,
   "metadata": {},
   "outputs": [],
   "source": []
  }
 ],
 "metadata": {
  "kernelspec": {
   "display_name": "Python 3",
   "language": "python",
   "name": "python3"
  },
  "language_info": {
   "codemirror_mode": {
    "name": "ipython",
    "version": 3
   },
   "file_extension": ".py",
   "mimetype": "text/x-python",
   "name": "python",
   "nbconvert_exporter": "python",
   "pygments_lexer": "ipython3",
   "version": "3.6.7"
  },
  "toc": {
   "base_numbering": 1,
   "nav_menu": {},
   "number_sections": true,
   "sideBar": true,
   "skip_h1_title": false,
   "title_cell": "Table of Contents",
   "title_sidebar": "Contents",
   "toc_cell": false,
   "toc_position": {},
   "toc_section_display": true,
   "toc_window_display": false
  },
  "varInspector": {
   "cols": {
    "lenName": 16,
    "lenType": 16,
    "lenVar": 40
   },
   "kernels_config": {
    "python": {
     "delete_cmd_postfix": "",
     "delete_cmd_prefix": "del ",
     "library": "var_list.py",
     "varRefreshCmd": "print(var_dic_list())"
    },
    "r": {
     "delete_cmd_postfix": ") ",
     "delete_cmd_prefix": "rm(",
     "library": "var_list.r",
     "varRefreshCmd": "cat(var_dic_list()) "
    }
   },
   "types_to_exclude": [
    "module",
    "function",
    "builtin_function_or_method",
    "instance",
    "_Feature"
   ],
   "window_display": false
  }
 },
 "nbformat": 4,
 "nbformat_minor": 2
}
